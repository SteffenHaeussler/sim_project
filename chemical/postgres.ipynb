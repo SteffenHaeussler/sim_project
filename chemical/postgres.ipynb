{
 "cells": [
  {
   "cell_type": "code",
   "execution_count": 26,
   "id": "d19ab726-d397-4449-bade-e0869a8f59b1",
   "metadata": {},
   "outputs": [],
   "source": [
    "import psycopg2"
   ]
  },
  {
   "cell_type": "code",
   "execution_count": 27,
   "id": "67d8b67a-d4ae-4e94-b4e7-ec84d743a7d6",
   "metadata": {},
   "outputs": [],
   "source": [
    "connection = psycopg2.connect(\n",
    "    host=\"localhost\",\n",
    "    port=5432,\n",
    "    database=\"chemical\",  # Replace with your database name\n",
    "    user=\"postgres\",\n",
    "    password=\"example\"\n",
    ")\n",
    "\n",
    "# Create a cursor to execute SQL commands\n",
    "cursor = connection.cursor()"
   ]
  },
  {
   "cell_type": "code",
   "execution_count": 28,
   "id": "f0f808c2-cc8e-4960-92ab-9cc53038ae56",
   "metadata": {},
   "outputs": [
    {
     "name": "stdout",
     "output_type": "stream",
     "text": [
      "Tables in the database:\n",
      "assets\n",
      "data\n"
     ]
    }
   ],
   "source": [
    "cursor.execute(\"\"\"\n",
    "    SELECT table_name \n",
    "    FROM information_schema.tables \n",
    "    WHERE table_schema = 'public';\n",
    "\"\"\")\n",
    "\n",
    "tables = cursor.fetchall()\n",
    "print(\"Tables in the database:\")\n",
    "for table in tables:\n",
    "    print(table[0])\n",
    "\n",
    "# Close the connection\n",
    "cursor.close()\n",
    "# connection.close()"
   ]
  },
  {
   "cell_type": "code",
   "execution_count": null,
   "id": "50e930fc-41e6-44ab-a50d-89a319ef4bd0",
   "metadata": {},
   "outputs": [],
   "source": [
    "cursor = connection.cursor()\n",
    "\n",
    "cursor.execute(\"\"\"\n",
    "    SELECT * from assets limit 10;\n",
    "\"\"\")\n",
    "\n",
    "data = cursor.fetchall()\n",
    "print(\"Tables in the database:\")\n",
    "for datum in data:\n",
    "    print(datum[0])\n",
    "\n",
    "# Close the connection\n",
    "cursor.close()"
   ]
  },
  {
   "cell_type": "code",
   "execution_count": 29,
   "id": "4473aeb3-ffaf-41b4-8758-edd96e3c8448",
   "metadata": {},
   "outputs": [
    {
     "name": "stdout",
     "output_type": "stream",
     "text": [
      "Tables in the database:\n",
      "24177600\n"
     ]
    }
   ],
   "source": [
    "cursor = connection.cursor()\n",
    "\n",
    "cursor.execute(\"\"\"\n",
    "    SELECT COUNT(*) FROM data;\n",
    "\"\"\")\n",
    "\n",
    "data = cursor.fetchall()\n",
    "print(\"Tables in the database:\")\n",
    "for datum in data:\n",
    "    print(datum[0])\n",
    "\n",
    "# Close the connection\n",
    "cursor.close()\n"
   ]
  },
  {
   "cell_type": "code",
   "execution_count": null,
   "id": "154cdd8b-e627-462f-9f97-50d5182770cb",
   "metadata": {},
   "outputs": [],
   "source": []
  },
  {
   "cell_type": "code",
   "execution_count": null,
   "id": "e8b9ff55-de90-4dac-9d7e-144b8f3d9d5f",
   "metadata": {},
   "outputs": [],
   "source": [
    "cursor = connection.cursor()\n",
    "\n",
    "cursor.execute(\"\"\"\n",
    "    SELECT * FROM data;\n",
    "\"\"\")\n",
    "\n",
    "data = cursor.fetchall()\n",
    "print(\"Tables in the database:\")\n",
    "for datum in data:\n",
    "    print(datum[0])\n",
    "\n",
    "# Close the connection\n",
    "cursor.close()\n"
   ]
  },
  {
   "cell_type": "code",
   "execution_count": null,
   "id": "04ba1a40-8b8c-46a6-abe4-7282adb5aaf7",
   "metadata": {},
   "outputs": [],
   "source": []
  },
  {
   "cell_type": "code",
   "execution_count": null,
   "id": "5193d320-89a2-41fd-a7c2-fcc6eb1261fa",
   "metadata": {},
   "outputs": [],
   "source": []
  }
 ],
 "metadata": {
  "kernelspec": {
   "display_name": "Python 3 (ipykernel)",
   "language": "python",
   "name": "python3"
  },
  "language_info": {
   "codemirror_mode": {
    "name": "ipython",
    "version": 3
   },
   "file_extension": ".py",
   "mimetype": "text/x-python",
   "name": "python",
   "nbconvert_exporter": "python",
   "pygments_lexer": "ipython3",
   "version": "3.11.5"
  }
 },
 "nbformat": 4,
 "nbformat_minor": 5
}
