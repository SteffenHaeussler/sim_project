{
 "cells": [
  {
   "cell_type": "code",
   "execution_count": 45,
   "id": "a71738ae-326a-4fc2-a724-94559d9d66c7",
   "metadata": {},
   "outputs": [],
   "source": [
    "import json\n",
    "import uuid"
   ]
  },
  {
   "cell_type": "code",
   "execution_count": 9,
   "id": "2eaeb75a-c267-4aa4-bba7-8c55855b060b",
   "metadata": {},
   "outputs": [],
   "source": [
    "assets_2345678 = [\"RA001\", \"LIC-L0001\", \"US-U0001\", \"YS-Y0001\", \"PIC-P0001\",\"BA001\", \"FIC-F0001\", \"PA001\", \"PA002\", \"MS-M0001\"]\n",
    "\n",
    "assets_1234567 = [\"TI-T0030\", \"FRC-F0025\", \"YS-Y0011\", \"FRC-F0026\", \"YS-Y0010\", \"TRC-T0032\", \"TRC-T0031\", \"TRC-T0029\", \"PRC-P0023\", \"PDI-P0018\", \"LRC-L0011\",\n",
    "                  \"TI-T0021\", \"LIC-L0012\", \"TI-T0023\", \"FRC-F0017\", \"PI-P0017\", \"PI-P0024\", \"PI-P0021\", \"PI-P0017\", \"FI-F0023\", \"TI-T0025\",\n",
    "                  \"YS-Y0015\", \"UC-U0020\", \"FIR-F0018\", \"YS-Y0009\", \"PI-P0016\", \"YS-Y008\", \"TI-T0026\", \"LI-L0009\", \"TI-T0022\", \"YS-Y0012\", \n",
    "                  \"LI-L0010\", \"TI-T0027\", \"YS-Y0013\", \"YS-Y0014\", \"PIC-P0022\", \"LI-L0008\", \"TI-T0028\", \"PI-P0019\", \"FQI-F0024\", \"PI-P0020\", \n",
    "                  \"PA104\", \"PA105\", \"WA006\", \"WA007\", \"WA008\", \"WA009\", \"WA010\", \"BA100\", \"BA101\", \"BA102\", \"BA103\", \"KA002\", \"PA100\", \"PA101\",  \"PA102\", \"PA103\",    \n",
    "                 ]"
   ]
  },
  {
   "cell_type": "code",
   "execution_count": 28,
   "id": "21ddd948-57f1-420a-a07b-7eb34595fc1d",
   "metadata": {},
   "outputs": [],
   "source": [
    "asset_names = assets_1234567 + assets_2345678"
   ]
  },
  {
   "cell_type": "code",
   "execution_count": 37,
   "id": "633f6a96-2f6f-49de-ab4a-f87e4bdc8d56",
   "metadata": {},
   "outputs": [],
   "source": [
    "class Plant: \n",
    "    def __init__(self, name, area):\n",
    "        self.id = f\"{uuid.uuid4()}\"\n",
    "        self.name = name\n",
    "        self.area = area\n",
    "        self.parent_id = None\n",
    "\n",
    "    def to_dict(self):\n",
    "         data = {\n",
    "            \"id\": self.id,\n",
    "            \"name\": self.name,\n",
    "            \"parent_id\": self.parent_id,\n",
    "            \"description\": \"\",\n",
    "        }\n",
    "         return data\n"
   ]
  },
  {
   "cell_type": "code",
   "execution_count": 38,
   "id": "ef82b175-70b4-433c-968d-8a111f98a1aa",
   "metadata": {},
   "outputs": [],
   "source": [
    "plant = Plant(name=\"COVPIL1-V999-TA99\", area=\"SmartPlantFoundation\")"
   ]
  },
  {
   "cell_type": "code",
   "execution_count": 39,
   "id": "d19ff9c4-282a-48d1-bc0f-99074fe92ac1",
   "metadata": {},
   "outputs": [
    {
     "data": {
      "text/plain": [
       "'bad9fd87-33dd-4e5d-b8b1-b96dd66c21aa'"
      ]
     },
     "execution_count": 39,
     "metadata": {},
     "output_type": "execute_result"
    }
   ],
   "source": [
    "plant.id"
   ]
  },
  {
   "cell_type": "code",
   "execution_count": 40,
   "id": "c81e9b6f-65ec-4130-a42a-4e59a6d6e899",
   "metadata": {},
   "outputs": [],
   "source": [
    "class Assets:\n",
    "    def __init__(self, name, parent_id):\n",
    "        self.id = f\"{uuid.uuid4()}\"\n",
    "        self.parent_id = parent_id\n",
    "        self.name = name\n",
    "        self.tag = name\n",
    "\n",
    "\n",
    "    def to_dict(self):\n",
    "         data = {\n",
    "            \"id\": self.id,\n",
    "            \"name\": self.name,\n",
    "            \"tag\": self.tag,\n",
    "            \"parent_id\": self.parent_id,\n",
    "            \"description\": \"\",\n",
    "            \"type\": \"\",\n",
    "        }\n",
    "         return data\n"
   ]
  },
  {
   "cell_type": "code",
   "execution_count": 41,
   "id": "29ecfd76-d1dc-4e13-8b2f-b4566bf84dff",
   "metadata": {},
   "outputs": [],
   "source": [
    "assets = [Assets(name=name, parent_id=plant.id) for name in asset_names]"
   ]
  },
  {
   "cell_type": "code",
   "execution_count": 42,
   "id": "d019ec74-8467-40f4-94e7-64d919119d0b",
   "metadata": {},
   "outputs": [],
   "source": [
    "asset_ids = [i.id for i in assets]"
   ]
  },
  {
   "cell_type": "code",
   "execution_count": 43,
   "id": "321eb8cf-86b3-4721-aaab-97c12ffb4a1c",
   "metadata": {},
   "outputs": [],
   "source": [
    "assert len(set(asset_ids)) == len(asset_ids)"
   ]
  },
  {
   "cell_type": "markdown",
   "id": "c6d29010-11e1-49a7-8777-4f85ac1ada1f",
   "metadata": {},
   "source": [
    "## json output"
   ]
  },
  {
   "cell_type": "code",
   "execution_count": 50,
   "id": "5fccf163-26e7-4870-a7d5-d31dd44502fe",
   "metadata": {},
   "outputs": [],
   "source": [
    "with open(\"/Users/steffen/sim_company/chemical/raw/plant.json\", \"w\") as f:\n",
    "    json.dump(plant.to_dict(), f)"
   ]
  },
  {
   "cell_type": "code",
   "execution_count": 52,
   "id": "930fa126-4bea-465f-8c7f-7450b2b3e94e",
   "metadata": {},
   "outputs": [],
   "source": [
    "asset_json = [i.to_dict() for i in assets]"
   ]
  },
  {
   "cell_type": "code",
   "execution_count": 54,
   "id": "e1d6e137-73bf-41cf-bd57-8932db5c107f",
   "metadata": {},
   "outputs": [],
   "source": [
    "# with open(\"/Users/steffen/sim_company/chemical/raw/assets.json\", \"w\") as f:\n",
    "#     json.dump(asset_json, f)"
   ]
  },
  {
   "cell_type": "code",
   "execution_count": 55,
   "id": "3dc6a9bc-eb6f-4fd4-881d-53afaf903dab",
   "metadata": {},
   "outputs": [
    {
     "data": {
      "text/plain": [
       "UUID('3b5efb30-e262-4322-b8ba-1af30ed6e58e')"
      ]
     },
     "execution_count": 55,
     "metadata": {},
     "output_type": "execute_result"
    }
   ],
   "source": [
    "uuid.uuid4()"
   ]
  },
  {
   "cell_type": "code",
   "execution_count": 58,
   "id": "394eee8c-de1d-4519-91bd-5f04e44b1d36",
   "metadata": {},
   "outputs": [
    {
     "data": {
      "text/plain": [
       "['BA001',\n",
       " 'FIC-F0001',\n",
       " 'LIC-L0001',\n",
       " 'MS-M0001',\n",
       " 'PA001',\n",
       " 'PA002',\n",
       " 'PIC-P0001',\n",
       " 'RA001',\n",
       " 'US-U0001',\n",
       " 'YS-Y0001']"
      ]
     },
     "execution_count": 58,
     "metadata": {},
     "output_type": "execute_result"
    }
   ],
   "source": [
    "\n",
    "sorted(assets_2345678)"
   ]
  },
  {
   "cell_type": "markdown",
   "id": "adc553ed-bb36-453e-ad9d-bbe1b281971b",
   "metadata": {},
   "source": [
    "# graph"
   ]
  },
  {
   "cell_type": "code",
   "execution_count": 59,
   "id": "fdbbca38-ef5c-4be2-8302-c72ac17ee13b",
   "metadata": {},
   "outputs": [],
   "source": [
    "# with open(\"/Users/steffen/sim_company/chemical/raw/assets.json\", \"r\") as f:\n",
    "\n",
    "#     assets = json.load(f)"
   ]
  },
  {
   "cell_type": "code",
   "execution_count": 61,
   "id": "23300ab9-d6c7-46f3-b687-f21266154177",
   "metadata": {},
   "outputs": [],
   "source": [
    "G = {}"
   ]
  },
  {
   "cell_type": "code",
   "execution_count": 62,
   "id": "288b21e5-f518-48c8-9412-96af4f71c2ee",
   "metadata": {},
   "outputs": [],
   "source": [
    "for i in assets:\n",
    "    G[i[\"name\"]] = []"
   ]
  },
  {
   "cell_type": "code",
   "execution_count": 65,
   "id": "1c822f6a-969e-46bf-b527-714f75bf19ea",
   "metadata": {},
   "outputs": [],
   "source": [
    "# with open(\"/Users/steffen/sim_company/chemical/raw/graph.json\", \"w\") as f:\n",
    "#     json.dump(G, f)"
   ]
  },
  {
   "cell_type": "code",
   "execution_count": 67,
   "id": "7785283a-88cd-45a9-8712-36d5293d5015",
   "metadata": {},
   "outputs": [
    {
     "name": "stdout",
     "output_type": "stream",
     "text": [
      "0ccb9f6e-a493-4ae0-b3c3-76a9dcb4be1b\n",
      "cf8b1241-df83-44b7-81df-c54ef0ae2957\n",
      "41a3e062-3f4a-4355-a729-8fd2fb0185f6\n",
      "b19e6044-c8c4-4be6-80a4-8ab5989e8776\n",
      "62edd6e2-466e-4262-a25f-84738b64f657\n",
      "47a68b85-cade-4165-9e56-f52443ea2c48\n",
      "c669dc08-2682-497c-a028-f72f59fbf669\n",
      "8ed13571-2863-462f-8386-7eac4f4a5be2\n",
      "b6044032-31a5-4027-b163-5bc329e5ccb5\n",
      "0f036970-72a0-48a1-8288-a9eea2c2c396\n",
      "5aa44ef2-e236-465e-ae45-5b2594c5cca5\n",
      "5c622939-718f-4ca2-93dd-c11d6190fdcc\n",
      "e94dcb2c-2245-48bf-9277-ea2a67acc3e3\n",
      "12fa3b3f-8ed9-4e46-81f0-b6245d6821b3\n",
      "e2e89395-6a48-4904-9ff0-1d68b739d88f\n",
      "8a6061e6-2366-402e-8cd1-6fcc1efcb42b\n",
      "ff5c008f-e5c2-4d81-9dad-ec4bea42216c\n",
      "d1da410e-3c97-4451-a0b9-4d04ec2ec176\n",
      "17c7351a-8159-4c1c-a7cf-3432afb46671\n",
      "7021e28b-5e24-430a-86d0-84d3e4d7ba59\n"
     ]
    }
   ],
   "source": [
    "for _ in range(20):\n",
    "    _id = uuid.uuid4()\n",
    "\n",
    "    if _id in asset_ids:\n",
    "        continue\n",
    "    \n",
    "    print(uuid.uuid4())"
   ]
  },
  {
   "cell_type": "markdown",
   "id": "b71696e8-f57d-494b-8012-f9f6cb9fa7ea",
   "metadata": {},
   "source": [
    "## Conversion"
   ]
  },
  {
   "cell_type": "code",
   "execution_count": 86,
   "id": "ed8684e4-7526-4192-9b56-bc03f923e8a0",
   "metadata": {},
   "outputs": [],
   "source": [
    "# with open(\"/Users/steffen/sim_company/chemical/raw/assets.json\", \"r\") as f:\n",
    "\n",
    "#     assets = json.load(f)\n",
    "\n",
    "\n",
    "# with open(\"/Users/steffen/sim_company/chemical/raw/base_graph.json\", \"r\") as f:\n",
    "\n",
    "#     base = json.load(f)"
   ]
  },
  {
   "cell_type": "code",
   "execution_count": 87,
   "id": "e26ef712-2e62-4069-a058-26f9ce000002",
   "metadata": {},
   "outputs": [],
   "source": [
    "name2id = {i[\"name\"]: i[\"id\"] for i in assets}"
   ]
  },
  {
   "cell_type": "code",
   "execution_count": 88,
   "id": "2ebcd345-485a-4eb0-b709-fce333134f12",
   "metadata": {},
   "outputs": [],
   "source": [
    "G = {}\n",
    "\n",
    "for _n, _e in base.items():\n",
    "\n",
    "    new_id = name2id[_n]\n",
    "    G[new_id] = []\n",
    "    \n",
    "    for _ee in _e:\n",
    "        new_edge = name2id[_ee]\n",
    "        G[new_id].append(new_edge)"
   ]
  },
  {
   "cell_type": "code",
   "execution_count": 89,
   "id": "4f744cff-b3dc-48da-94da-0633d5ddd625",
   "metadata": {},
   "outputs": [],
   "source": [
    "# with open(\"/Users/steffen/sim_company/chemical/raw/graph.json\", \"w\") as f:\n",
    "#     json.dump(G, f)"
   ]
  },
  {
   "cell_type": "markdown",
   "id": "386e8bee-1638-4313-a923-7109b439c7c2",
   "metadata": {},
   "source": [
    "## Checks"
   ]
  },
  {
   "cell_type": "code",
   "execution_count": 99,
   "id": "c00d15da-8dd6-4671-a19a-704f9d890462",
   "metadata": {},
   "outputs": [],
   "source": [
    "cnt = {}\n",
    "\n",
    "for _n in name2id.keys():\n",
    "    cnt[_n] = 0"
   ]
  },
  {
   "cell_type": "code",
   "execution_count": 100,
   "id": "b1fc78c2-29fa-46fa-b09a-c1ee8fc0cc3b",
   "metadata": {},
   "outputs": [],
   "source": [
    "for _n, _e in base.items():\n",
    "    cnt[_n] = cnt.get(_n) + 1\n",
    "\n",
    "    for _ee in _e:\n",
    "        cnt[_ee] = cnt.get(_ee) + 1"
   ]
  },
  {
   "cell_type": "code",
   "execution_count": 103,
   "id": "3ae3abe9-8f21-47e2-a0ea-d9170b29ec0d",
   "metadata": {},
   "outputs": [],
   "source": [
    "for k, n in cnt.items():\n",
    "    assert n > 0"
   ]
  },
  {
   "cell_type": "markdown",
   "id": "57c2182b-9997-4575-b0d1-53fd29550d3d",
   "metadata": {},
   "source": [
    "## Sensor"
   ]
  },
  {
   "cell_type": "code",
   "execution_count": 258,
   "id": "e58e3841-93f0-4c1f-b78b-a7688fa3a22b",
   "metadata": {},
   "outputs": [],
   "source": [
    "# with open(\"/Users/steffen/sim_company/chemical/raw/base_sensor_information.json\", \"r\") as f:\n",
    "\n",
    "#     base = json.load(f)\n",
    "\n",
    "# with open(\"/Users/steffen/sim_company/chemical/raw/assets.json\", \"r\") as f:\n",
    "\n",
    "#     assets = json.load(f)"
   ]
  },
  {
   "cell_type": "code",
   "execution_count": 112,
   "id": "5a5c33ff-bd62-4e57-bbc5-eed026b98ee0",
   "metadata": {},
   "outputs": [],
   "source": [
    "for n, i in enumerate(assets):\n",
    "    if i[\"asset_type\"] != \"instrument\":\n",
    "        continue\n",
    "\n",
    "    si = i[\"name\"].split(\"-\")[0]\n",
    "\n",
    "    i.update(base[si])\n",
    "\n",
    "    \n",
    "    "
   ]
  },
  {
   "cell_type": "code",
   "execution_count": 114,
   "id": "66179fe0-cc97-43d6-986a-15a25443fda9",
   "metadata": {},
   "outputs": [],
   "source": [
    "# with open(\"/Users/steffen/sim_company/chemical/raw/assets.json\", \"w\") as f:\n",
    "#     json.dump(assets, f)"
   ]
  },
  {
   "cell_type": "markdown",
   "id": "7e4972e6-a2ac-48dc-8956-a4f56fe4216d",
   "metadata": {},
   "source": [
    "## Data simulation"
   ]
  },
  {
   "cell_type": "code",
   "execution_count": 259,
   "id": "3f000cd2-cefd-4534-a708-ecddce3750db",
   "metadata": {},
   "outputs": [],
   "source": [
    "# with open(\"/Users/steffen/sim_company/chemical/raw/assets.json\", \"r\") as f:\n",
    "\n",
    "#     assets = json.load(f)"
   ]
  },
  {
   "cell_type": "code",
   "execution_count": 277,
   "id": "7576e64f-f4fb-42e1-834f-e9fea01ddb5c",
   "metadata": {},
   "outputs": [],
   "source": [
    "import numpy as np\n",
    "import pandas as pd"
   ]
  },
  {
   "cell_type": "code",
   "execution_count": 285,
   "id": "d804a5f0-df28-4c90-99b0-1fae84e988f4",
   "metadata": {},
   "outputs": [],
   "source": [
    "np.random.seed(42)\n",
    "time_span = int(60*24*365*1)\n",
    "\n",
    "time_steps = pd.date_range(start=\"2025-01-01\", periods=time_span, freq=\"min\")\n",
    "\n",
    "for i in assets:\n",
    "    if i[\"asset_type\"] != \"instrument\":\n",
    "        continue\n",
    "\n",
    "    _id = i[\"id\"]\n",
    "    _range = i[\"range\"]\n",
    "    unit = i[\"unit\"]\n",
    "\n",
    "    if unit == \"signal\":\n",
    "\n",
    "        flow_data = np.ones(time_span)\n",
    "\n",
    "    else:\n",
    "\n",
    "        amplitude = np.random.randint(3,11)\n",
    "    \n",
    "        std_dev = np.random.randint(3,11)\n",
    "    \n",
    "        target_value = _range[0] + 0.25 * (_range[1] - _range[0])\n",
    "        trend = np.random.normal(target_value, std_dev)\n",
    "        \n",
    "        flow_data = trend + amplitude * np.sin(np.linspace(0, 3 * np.pi, time_span)) + np.random.normal(0, std_dev, time_span)\n",
    "    \n",
    "        flow_data = np.clip(flow_data, a_min=_range[0], a_max=_range[1])\n",
    "        flow_data = np.round(flow_data, 2)\n",
    "\n",
    "    data = pd.DataFrame({\"id\": _id, \"timestamp\": time_steps, \"value\": flow_data})\n",
    "\n",
    "\n",
    "    missing_start = \"2025-06-01\"\n",
    "    missing_end = \"2025-07-01\"\n",
    "    data.loc[(data[\"timestamp\"] >= missing_start) & (data[\"timestamp\"] < missing_end), unit] = 0.0\n",
    "\n",
    "    if '%' in data:\n",
    "        data.drop('%', inplace=True, axis=1)\n",
    "        \n",
    "    data.to_parquet(f\"/Users/steffen/sim_company/chemical/raw/data/{_id}.snappy.parquet\", compression=\"snappy\")\n",
    "    # data.to_csv(f\"/Users/steffen/sim_company/chemical/raw/data/{_id}.csv\", index=False)"
   ]
  },
  {
   "cell_type": "code",
   "execution_count": 283,
   "id": "5c0a0f09-ed85-424e-a7c3-7ccbdf108901",
   "metadata": {},
   "outputs": [],
   "source": []
  },
  {
   "cell_type": "code",
   "execution_count": 287,
   "id": "6f90975a-fc20-436f-be19-d6ba1bfb2ab9",
   "metadata": {},
   "outputs": [
    {
     "data": {
      "text/html": [
       "<div>\n",
       "<style scoped>\n",
       "    .dataframe tbody tr th:only-of-type {\n",
       "        vertical-align: middle;\n",
       "    }\n",
       "\n",
       "    .dataframe tbody tr th {\n",
       "        vertical-align: top;\n",
       "    }\n",
       "\n",
       "    .dataframe thead th {\n",
       "        text-align: right;\n",
       "    }\n",
       "</style>\n",
       "<table border=\"1\" class=\"dataframe\">\n",
       "  <thead>\n",
       "    <tr style=\"text-align: right;\">\n",
       "      <th></th>\n",
       "      <th>id</th>\n",
       "      <th>timestamp</th>\n",
       "      <th>value</th>\n",
       "    </tr>\n",
       "  </thead>\n",
       "  <tbody>\n",
       "    <tr>\n",
       "      <th>0</th>\n",
       "      <td>cc58b559-0637-4440-95f3-fdc736e14ccc</td>\n",
       "      <td>2025-01-01 00:00:00</td>\n",
       "      <td>32.69</td>\n",
       "    </tr>\n",
       "    <tr>\n",
       "      <th>1</th>\n",
       "      <td>cc58b559-0637-4440-95f3-fdc736e14ccc</td>\n",
       "      <td>2025-01-01 00:01:00</td>\n",
       "      <td>24.49</td>\n",
       "    </tr>\n",
       "    <tr>\n",
       "      <th>2</th>\n",
       "      <td>cc58b559-0637-4440-95f3-fdc736e14ccc</td>\n",
       "      <td>2025-01-01 00:02:00</td>\n",
       "      <td>33.39</td>\n",
       "    </tr>\n",
       "    <tr>\n",
       "      <th>3</th>\n",
       "      <td>cc58b559-0637-4440-95f3-fdc736e14ccc</td>\n",
       "      <td>2025-01-01 00:03:00</td>\n",
       "      <td>35.81</td>\n",
       "    </tr>\n",
       "    <tr>\n",
       "      <th>4</th>\n",
       "      <td>cc58b559-0637-4440-95f3-fdc736e14ccc</td>\n",
       "      <td>2025-01-01 00:04:00</td>\n",
       "      <td>34.80</td>\n",
       "    </tr>\n",
       "    <tr>\n",
       "      <th>...</th>\n",
       "      <td>...</td>\n",
       "      <td>...</td>\n",
       "      <td>...</td>\n",
       "    </tr>\n",
       "    <tr>\n",
       "      <th>525595</th>\n",
       "      <td>cc58b559-0637-4440-95f3-fdc736e14ccc</td>\n",
       "      <td>2025-12-31 23:55:00</td>\n",
       "      <td>28.72</td>\n",
       "    </tr>\n",
       "    <tr>\n",
       "      <th>525596</th>\n",
       "      <td>cc58b559-0637-4440-95f3-fdc736e14ccc</td>\n",
       "      <td>2025-12-31 23:56:00</td>\n",
       "      <td>20.97</td>\n",
       "    </tr>\n",
       "    <tr>\n",
       "      <th>525597</th>\n",
       "      <td>cc58b559-0637-4440-95f3-fdc736e14ccc</td>\n",
       "      <td>2025-12-31 23:57:00</td>\n",
       "      <td>39.72</td>\n",
       "    </tr>\n",
       "    <tr>\n",
       "      <th>525598</th>\n",
       "      <td>cc58b559-0637-4440-95f3-fdc736e14ccc</td>\n",
       "      <td>2025-12-31 23:58:00</td>\n",
       "      <td>25.49</td>\n",
       "    </tr>\n",
       "    <tr>\n",
       "      <th>525599</th>\n",
       "      <td>cc58b559-0637-4440-95f3-fdc736e14ccc</td>\n",
       "      <td>2025-12-31 23:59:00</td>\n",
       "      <td>21.93</td>\n",
       "    </tr>\n",
       "  </tbody>\n",
       "</table>\n",
       "<p>525600 rows × 3 columns</p>\n",
       "</div>"
      ],
      "text/plain": [
       "                                          id           timestamp  value\n",
       "0       cc58b559-0637-4440-95f3-fdc736e14ccc 2025-01-01 00:00:00  32.69\n",
       "1       cc58b559-0637-4440-95f3-fdc736e14ccc 2025-01-01 00:01:00  24.49\n",
       "2       cc58b559-0637-4440-95f3-fdc736e14ccc 2025-01-01 00:02:00  33.39\n",
       "3       cc58b559-0637-4440-95f3-fdc736e14ccc 2025-01-01 00:03:00  35.81\n",
       "4       cc58b559-0637-4440-95f3-fdc736e14ccc 2025-01-01 00:04:00  34.80\n",
       "...                                      ...                 ...    ...\n",
       "525595  cc58b559-0637-4440-95f3-fdc736e14ccc 2025-12-31 23:55:00  28.72\n",
       "525596  cc58b559-0637-4440-95f3-fdc736e14ccc 2025-12-31 23:56:00  20.97\n",
       "525597  cc58b559-0637-4440-95f3-fdc736e14ccc 2025-12-31 23:57:00  39.72\n",
       "525598  cc58b559-0637-4440-95f3-fdc736e14ccc 2025-12-31 23:58:00  25.49\n",
       "525599  cc58b559-0637-4440-95f3-fdc736e14ccc 2025-12-31 23:59:00  21.93\n",
       "\n",
       "[525600 rows x 3 columns]"
      ]
     },
     "execution_count": 287,
     "metadata": {},
     "output_type": "execute_result"
    }
   ],
   "source": [
    "data"
   ]
  },
  {
   "cell_type": "code",
   "execution_count": null,
   "id": "bb0c8258-6f95-4942-9e37-b764fca8ed54",
   "metadata": {},
   "outputs": [],
   "source": []
  }
 ],
 "metadata": {
  "kernelspec": {
   "display_name": "Python 3 (ipykernel)",
   "language": "python",
   "name": "python3"
  },
  "language_info": {
   "codemirror_mode": {
    "name": "ipython",
    "version": 3
   },
   "file_extension": ".py",
   "mimetype": "text/x-python",
   "name": "python",
   "nbconvert_exporter": "python",
   "pygments_lexer": "ipython3",
   "version": "3.11.5"
  }
 },
 "nbformat": 4,
 "nbformat_minor": 5
}
