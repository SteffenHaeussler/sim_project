{
 "cells": [
  {
   "cell_type": "code",
   "execution_count": 3,
   "id": "d3fc8f8b-bf44-45af-b1b7-43a697e336ee",
   "metadata": {},
   "outputs": [],
   "source": [
    "import httpx\n",
    "from pydantic import BaseModel\n",
    "import json"
   ]
  },
  {
   "cell_type": "code",
   "execution_count": 4,
   "id": "6cad43b6-44c4-4127-8cf1-1b3515ddca53",
   "metadata": {},
   "outputs": [],
   "source": [
    "\n",
    "class KBResponse(BaseModel):\n",
    "    query: str\n",
    "    text: str\n",
    "    score: float\n",
    "    id: str\n",
    "    tag: str\n",
    "    name: str"
   ]
  },
  {
   "cell_type": "code",
   "execution_count": null,
   "id": "3c09b28f-ef5e-49bd-8648-985991584c20",
   "metadata": {},
   "outputs": [],
   "source": [
    "# with open(\"/Users/steffen/sim_company/chemical/raw/assets.json\", \"r\") as f:\n",
    "#     data = json.load(f)"
   ]
  },
  {
   "cell_type": "code",
   "execution_count": null,
   "id": "d6cf14ee-ca44-41c6-9e7a-71b564106241",
   "metadata": {},
   "outputs": [],
   "source": [
    "# mapping = [\n",
    "#     (\"temp vor Rückstandskühler\", \"TI-T0022\"),\n",
    "#     (\"temp nach Rückstandskühler\", \"TI-T0026\"),\n",
    "#     (\"stand nach Rückstandskühler\", \"LI-L0009\"),\n",
    "#     (\"temp nach Destillatkühler a\", \"TI-T0027\"),\n",
    "#     (\"temp nach Destillatkühler b\", \"TI-T0028\"),\n",
    "#     (\"stand nach Destillatkühler a\", \"LI-L0010\"),\n",
    "#     (\"stand nach Destillatkühler b\", \"LI-L0008\"),\n",
    "#     (\"druck nach Destillatkühler a\", \"PI-P0020\"),\n",
    "#     (\"druck nach Destillatkühler b\", \"PI-P0019\"),\n",
    "#     (\"menge an zufluss in tanklager\", \"FQI-F0024\"),\n",
    "#     (\"dampfdruck in der destillation\", \"PDI-P0018\"),\n",
    "#     (\"obere Temperatur in der destillation\", \"TRC-T0029\"),\n",
    "#     (\"mittlere Temperatur in der destillation\", \"TRC-T0031\"),\n",
    "#     (\"untere Temperatur in der destillation\", \"TRC-T0032\"),\n",
    "#     (\"menge in der destillation\", \"LRC-L0011\"),\n",
    "#     (\"zuflussmenge zur destillation\", \"FRC-F0025\"),\n",
    "#     (\"zuflusstemperatur zur destillation\", \"TI-T0030\"),\n",
    "#     (\"temp Kühlwasser-Rücklauf von der Destillation\", \"TI-T0023\"),\n",
    "#     (\"menge Kühlwasser-Rücklauf von der Destillation\", \"FI-F0023\"),\n",
    "#     (\"temp Kühlwasser-Rücklauf von Kondensator\", \"TI-T0023\"),\n",
    "#     (\"menge Kühlwasser-Rücklauf von Kondensator\", \"FI-F0023\"),\n",
    "#     (\"temp Kühlgas-Rücklauf von der Destillation\", \"TI-T0025\"),\n",
    "#     (\"temp Kühlgas-Rücklauf von Gaskühler\", \"TI-T0025\"),\n",
    "# ]"
   ]
  },
  {
   "cell_type": "code",
   "execution_count": null,
   "id": "5a004214-be78-4bd7-b822-c4564173d555",
   "metadata": {},
   "outputs": [],
   "source": [
    "# raw = []\n",
    "# for desc, tag in mapping:\n",
    "#     response = httpx.get(f\"http://localhost:5050/v1/id_from_name/{tag}\")\n",
    "#     _id = response.json()\n",
    "#     raw.append({\"description\": desc, \"name\": tag, \"tag\": tag, \"id\": _id})"
   ]
  },
  {
   "cell_type": "code",
   "execution_count": null,
   "id": "47f1c296-ffb7-4a08-8255-49073cc4bd4c",
   "metadata": {},
   "outputs": [],
   "source": [
    "# with open(\"/Users/steffen/sim_company/chemical/raw/knowledge_base.json\", \"w\") as f:\n",
    "#     json.dump(raw,f)"
   ]
  },
  {
   "cell_type": "code",
   "execution_count": null,
   "id": "2f2ca1aa-de5d-488c-b3cd-a12581dd30cc",
   "metadata": {},
   "outputs": [],
   "source": [
    "test = httpx.get(\"http://localhost:5051/v1/embedding/test\")"
   ]
  },
  {
   "cell_type": "code",
   "execution_count": null,
   "id": "0eff5592-9fc6-4396-abfd-25bc6d448f14",
   "metadata": {},
   "outputs": [],
   "source": [
    "n_emb = len(test.json()[\"embedding\"])"
   ]
  },
  {
   "cell_type": "markdown",
   "id": "43edf202-4209-4497-97be-134224c9572d",
   "metadata": {},
   "source": [
    "## Data ingestion"
   ]
  },
  {
   "cell_type": "code",
   "execution_count": null,
   "id": "5a0b3639-3a83-4520-ba7a-69713bf1eaf7",
   "metadata": {},
   "outputs": [],
   "source": [
    "with open(\"/Users/steffen/sim_company/chemical/raw/knowledge_base.json\", \"r\") as f:\n",
    "    data = json.load(f)"
   ]
  },
  {
   "cell_type": "code",
   "execution_count": null,
   "id": "96625359-3d49-4dad-9fd1-2b9079859c55",
   "metadata": {},
   "outputs": [],
   "source": [
    "from qdrant_client import QdrantClient, models\n",
    "\n",
    "client = QdrantClient(host=\"localhost\", port=6333)\n"
   ]
  },
  {
   "cell_type": "code",
   "execution_count": null,
   "id": "449d04ad-321a-46d1-8545-11e2131eb6fb",
   "metadata": {},
   "outputs": [],
   "source": [
    "from qdrant_client.models import VectorParams, Distance\n",
    "\n",
    "# client.delete_collection(collection_name=\"chemical\")\n",
    "\n",
    "\n",
    "if not client.collection_exists(\"chemical\"):\n",
    "   client.create_collection(\n",
    "      collection_name=\"chemical\",\n",
    "      vectors_config=VectorParams(size=n_emb, distance=Distance.COSINE),\n",
    "   )\n"
   ]
  },
  {
   "cell_type": "code",
   "execution_count": null,
   "id": "6eeae3a7-f054-4151-bb28-615d4c41d0cd",
   "metadata": {},
   "outputs": [],
   "source": [
    "# import numpy as np\n",
    "# from qdrant_client.models import PointStruct\n",
    "\n",
    "# for idx, _data in enumerate(data):\n",
    "\n",
    "#     response = httpx.get(f\"http://localhost:5051/v1/embedding/{_data[\"description\"]}\")\n",
    "#     embedding = response.json()[\"embedding\"]\n",
    "    \n",
    "#     client.upsert(\n",
    "#         collection_name=\"chemical\",\n",
    "#         points=[\n",
    "#             models.PointStruct(\n",
    "#                 id=_data[\"id\"],\n",
    "#                 payload=_data,\n",
    "#                 vector=embedding,\n",
    "#             ),\n",
    "#         ],\n",
    "#     )\n",
    "\n"
   ]
  },
  {
   "cell_type": "markdown",
   "id": "5c19c9aa-2d7f-442e-bacf-e02a35592458",
   "metadata": {},
   "source": [
    "## Data retrieval"
   ]
  },
  {
   "cell_type": "code",
   "execution_count": null,
   "id": "b3ef7991-895b-4b57-a5fd-dd787b063ac5",
   "metadata": {},
   "outputs": [],
   "source": [
    "# query_text = \"What is the temperature?\"\n",
    "\n",
    "# response = httpx.get(f\"http://localhost:5051/v1/embedding/\", params={\"text\": query_text})\n",
    "# embedding = response.json()[\"embedding\"]"
   ]
  },
  {
   "cell_type": "code",
   "execution_count": null,
   "id": "69a5f233-6b04-4ac2-aece-db30a8fe6789",
   "metadata": {},
   "outputs": [],
   "source": [
    "\n",
    "# response = httpx.post(f\"http://localhost:5051/v1/search/\", json={\"embedding\": embedding})\n",
    "# response = response.json()"
   ]
  },
  {
   "cell_type": "code",
   "execution_count": null,
   "id": "b288582c-b794-4613-92d6-e667d19ec2f6",
   "metadata": {},
   "outputs": [],
   "source": [
    "# scores = []\n",
    "\n",
    "# for p in response[\"results\"]:\n",
    "#     r = httpx.get(f\"http://localhost:5051/v1/ranking/\", params={\"text\": p[\"description\"], \"query\": query_text})\n",
    "#     score = r.json()\n",
    "#     p.pop(\"score\", None)\n",
    "#     data = KBResponse(**score, **p)\n",
    "#     scores.append(data)\n",
    "\n",
    "# scores = sorted(scores, key=lambda x: -x.score)"
   ]
  },
  {
   "cell_type": "code",
   "execution_count": null,
   "id": "0a68bd2f-1458-41a7-87e7-32ea78a76862",
   "metadata": {},
   "outputs": [],
   "source": [
    "# scores[0]"
   ]
  },
  {
   "cell_type": "code",
   "execution_count": 5,
   "id": "bcf3a0da-3e92-4dea-ab89-7b3255e95f58",
   "metadata": {},
   "outputs": [],
   "source": [
    "def get_candidates(query):\n",
    "    scores = []\n",
    "\n",
    "    response = httpx.get(f\"http://localhost:5051/v1/embedding/\", params={\"text\": query})\n",
    "    embedding = response.json()[\"embedding\"]\n",
    "\n",
    "    response = httpx.post(f\"http://localhost:5051/v1/search/\", json={\"embedding\": embedding})\n",
    "    response = response.json()\n",
    "    \n",
    "    for p in response[\"results\"]:\n",
    "        r = httpx.get(f\"http://localhost:5051/v1/ranking/\", params={\"text\": p[\"description\"], \"query\": query})\n",
    "        score = r.json()\n",
    "        p.pop(\"score\", None)\n",
    "        data = KBResponse(**score, **p)\n",
    "        scores.append(data)\n",
    "    \n",
    "    scores = sorted(scores, key=lambda x: -x.score)\n",
    "\n",
    "    return scores"
   ]
  },
  {
   "cell_type": "code",
   "execution_count": 6,
   "id": "00b9f3e2-cbf0-4374-a0d3-7e07cc58239d",
   "metadata": {},
   "outputs": [],
   "source": [
    "queries = [\"What is the daily maximum value of PI-P0017 in April 2025?\",\n",
    "           \"How much was produced in the first two weeks of 2025?\",\n",
    "            \"How much was the total production in the first two weeks of 2025?\",\n",
    "            \"How much was the total production in the distillation first two weeks of 2025?\",\n",
    "            \"Can you compare PI-P0017 and PI-P0016 for the first 10 days in 2025?\",\n",
    "            \"What is the last pressure in the distillation?\",\n",
    "            \"What is the leven in tank b?\",\n",
    "            \"can you plot me the tempurate of the distillation cooler A for the last two weeks?\",\n",
    "            \"What is the temperature of the water tank?\",\n",
    "            \"what is the current pressure in the tank storage a?\",\n",
    "           \"how much distillate is flown in the storage in the last 4 hours?\",\n",
    "            \"what is the current temperature at top of the distillation column?\"\n",
    "\n",
    "]"
   ]
  },
  {
   "cell_type": "code",
   "execution_count": 7,
   "id": "9d35010e-9e34-4f30-81ce-a204d57e23b0",
   "metadata": {},
   "outputs": [
    {
     "name": "stdout",
     "output_type": "stream",
     "text": [
      "What is the daily maximum value of PI-P0017 in April 2025?\n",
      "-10.926222801208496 total production rate of the distillation\n"
     ]
    }
   ],
   "source": [
    "i = 0\n",
    "\n",
    "scores = get_candidates(queries[i])\n",
    "\n",
    "print(queries[i])\n",
    "print(scores[0].score, scores[0].text)"
   ]
  },
  {
   "cell_type": "code",
   "execution_count": 8,
   "id": "03014d15-6a91-4565-ad54-f463ed8a97ad",
   "metadata": {},
   "outputs": [
    {
     "name": "stdout",
     "output_type": "stream",
     "text": [
      "How much was produced in the first two weeks of 2025?\n",
      "-10.114917755126953 total production rate of the distillation\n"
     ]
    }
   ],
   "source": [
    "i = 1\n",
    "\n",
    "scores = get_candidates(queries[i])\n",
    "\n",
    "print(queries[i])\n",
    "print(scores[0].score, scores[0].text)"
   ]
  },
  {
   "cell_type": "code",
   "execution_count": 9,
   "id": "8156d9e1-ecaa-4969-9c96-d8872017be37",
   "metadata": {},
   "outputs": [
    {
     "name": "stdout",
     "output_type": "stream",
     "text": [
      "How much was the total production in the first two weeks of 2025?\n",
      "-8.1950101852417 total production rate of the distillation\n"
     ]
    }
   ],
   "source": [
    "i = 2\n",
    "\n",
    "scores = get_candidates(queries[i])\n",
    "\n",
    "print(queries[i])\n",
    "print(scores[0].score, scores[0].text)"
   ]
  },
  {
   "cell_type": "code",
   "execution_count": 10,
   "id": "366283f6-d62a-4c5a-96b1-924df6fa7b48",
   "metadata": {},
   "outputs": [
    {
     "name": "stdout",
     "output_type": "stream",
     "text": [
      "How much was the total production in the distillation first two weeks of 2025?\n",
      "-0.8265450596809387 total production rate of the distillation\n"
     ]
    }
   ],
   "source": [
    "i = 3\n",
    "\n",
    "scores = get_candidates(queries[i])\n",
    "\n",
    "print(queries[i])\n",
    "print(scores[0].score, scores[0].text)"
   ]
  },
  {
   "cell_type": "code",
   "execution_count": 11,
   "id": "2aa20dce-0d31-432b-8abc-57d30075654e",
   "metadata": {},
   "outputs": [
    {
     "name": "stdout",
     "output_type": "stream",
     "text": [
      "Can you compare PI-P0017 and PI-P0016 for the first 10 days in 2025?\n",
      "-9.457514762878418 total production rate of the distillation\n"
     ]
    }
   ],
   "source": [
    "i = 4\n",
    "\n",
    "scores = get_candidates(queries[i])\n",
    "\n",
    "print(queries[i])\n",
    "print(scores[0].score, scores[0].text)"
   ]
  },
  {
   "cell_type": "code",
   "execution_count": 12,
   "id": "c1002af1-2a09-48a9-ac85-459b63982d89",
   "metadata": {},
   "outputs": [
    {
     "name": "stdout",
     "output_type": "stream",
     "text": [
      "What is the last pressure in the distillation?\n",
      "1.3120077848434448 vapor pressure in the distillations column\n"
     ]
    }
   ],
   "source": [
    "i = 5\n",
    "\n",
    "scores = get_candidates(queries[i])\n",
    "\n",
    "print(queries[i])\n",
    "print(scores[0].score, scores[0].text)"
   ]
  },
  {
   "cell_type": "code",
   "execution_count": 13,
   "id": "8129d03c-e6f8-4af9-ba05-e7de9eea73ff",
   "metadata": {},
   "outputs": [
    {
     "name": "stdout",
     "output_type": "stream",
     "text": [
      "What is the leven in tank b?\n",
      "-4.3909406661987305 destillate level before the tank storage at tank b\n"
     ]
    }
   ],
   "source": [
    "i = 6\n",
    "\n",
    "scores = get_candidates(queries[i])\n",
    "\n",
    "print(queries[i])\n",
    "print(scores[0].score, scores[0].text)"
   ]
  },
  {
   "cell_type": "code",
   "execution_count": 14,
   "id": "9196c118-c502-4846-ad29-7437e657c9ed",
   "metadata": {},
   "outputs": [
    {
     "name": "stdout",
     "output_type": "stream",
     "text": [
      "can you plot me the tempurate of the distillation cooler A for the last two weeks?\n",
      "-4.500114440917969 temperature of the distillate flow towards the distillation column\n",
      "-5.038633823394775 temperature in the upper part of the distillation column\n",
      "-5.061733722686768 temperature in the middle part of the distillation column\n"
     ]
    }
   ],
   "source": [
    "i = 7\n",
    "\n",
    "scores = get_candidates(queries[i])\n",
    "\n",
    "print(queries[i])\n",
    "print(scores[0].score, scores[0].text)\n",
    "print(scores[1].score, scores[1].text)\n",
    "print(scores[2].score, scores[2].text)\n",
    "\n",
    "# destillate temperature after the distillation cooler at tank a"
   ]
  },
  {
   "cell_type": "code",
   "execution_count": 15,
   "id": "f2c92049-4219-4bf9-9b4d-8fd89c095960",
   "metadata": {},
   "outputs": [
    {
     "name": "stdout",
     "output_type": "stream",
     "text": [
      "What is the temperature of the water tank?\n",
      "-0.13996659219264984 measures the cooling water tank temperature after the residue cooler\n"
     ]
    }
   ],
   "source": [
    "i = 8\n",
    "\n",
    "scores = get_candidates(queries[i])\n",
    "\n",
    "print(queries[i])\n",
    "print(scores[0].score, scores[0].text)"
   ]
  },
  {
   "cell_type": "code",
   "execution_count": 16,
   "id": "96c4b432-2924-4876-9e87-9e6526b9a463",
   "metadata": {},
   "outputs": [
    {
     "name": "stdout",
     "output_type": "stream",
     "text": [
      "what is the current pressure in the tank storage a?\n",
      "3.474311351776123 destillate pressure before the tank storage at tank a\n"
     ]
    }
   ],
   "source": [
    "i = 9\n",
    "\n",
    "scores = get_candidates(queries[i])\n",
    "\n",
    "print(queries[i])\n",
    "print(scores[0].score, scores[0].text)"
   ]
  },
  {
   "cell_type": "code",
   "execution_count": 17,
   "id": "e6b83922-5455-4935-8f2f-6a49f672c89e",
   "metadata": {},
   "outputs": [
    {
     "name": "stdout",
     "output_type": "stream",
     "text": [
      "how much distillate is flown in the storage in the last 4 hours?\n",
      "-5.278166770935059 amount of distillate flow towards the distillation column\n",
      "-5.958638668060303 level of distillate in the distillation column\n",
      "-7.514389991760254 total production rate of the distillation\n"
     ]
    }
   ],
   "source": [
    "i = 10\n",
    "\n",
    "scores = get_candidates(queries[i])\n",
    "\n",
    "print(queries[i])\n",
    "print(scores[0].score, scores[0].text)\n",
    "print(scores[1].score, scores[1].text)\n",
    "print(scores[2].score, scores[2].text)\n",
    "\n",
    "# amount of distillate flow towards tank storage"
   ]
  },
  {
   "cell_type": "code",
   "execution_count": 18,
   "id": "e18bc529-b0b6-422e-97ea-c3ea5286e273",
   "metadata": {},
   "outputs": [
    {
     "name": "stdout",
     "output_type": "stream",
     "text": [
      "what is the current temperature at top of the distillation column?\n",
      "1.4172132015228271 temperature in the upper part of the distillation column\n"
     ]
    }
   ],
   "source": [
    "i = 11\n",
    "\n",
    "scores = get_candidates(queries[i])\n",
    "\n",
    "print(queries[i])\n",
    "print(scores[0].score, scores[0].text)"
   ]
  },
  {
   "cell_type": "code",
   "execution_count": null,
   "id": "fc0f0dbf-585a-40d2-aa8f-04dbfba3e953",
   "metadata": {},
   "outputs": [],
   "source": []
  },
  {
   "cell_type": "code",
   "execution_count": null,
   "id": "7c0fd417-4f10-4476-96c2-6826684232c2",
   "metadata": {},
   "outputs": [],
   "source": []
  }
 ],
 "metadata": {
  "kernelspec": {
   "display_name": "Python 3 (ipykernel)",
   "language": "python",
   "name": "python3"
  },
  "language_info": {
   "codemirror_mode": {
    "name": "ipython",
    "version": 3
   },
   "file_extension": ".py",
   "mimetype": "text/x-python",
   "name": "python",
   "nbconvert_exporter": "python",
   "pygments_lexer": "ipython3",
   "version": "3.12.7"
  }
 },
 "nbformat": 4,
 "nbformat_minor": 5
}
