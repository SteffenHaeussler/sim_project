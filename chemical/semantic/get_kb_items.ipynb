{
 "cells": [
  {
   "cell_type": "code",
   "execution_count": 1,
   "id": "d3fc8f8b-bf44-45af-b1b7-43a697e336ee",
   "metadata": {},
   "outputs": [],
   "source": [
    "import httpx"
   ]
  },
  {
   "cell_type": "code",
   "execution_count": null,
   "id": "6cad43b6-44c4-4127-8cf1-1b3515ddca53",
   "metadata": {},
   "outputs": [],
   "source": [
    "import json"
   ]
  },
  {
   "cell_type": "code",
   "execution_count": null,
   "id": "3c09b28f-ef5e-49bd-8648-985991584c20",
   "metadata": {},
   "outputs": [],
   "source": [
    "# with open(\"/Users/steffen/sim_company/chemical/raw/assets.json\", \"r\") as f:\n",
    "#     data = json.load(f)"
   ]
  },
  {
   "cell_type": "code",
   "execution_count": null,
   "id": "d6cf14ee-ca44-41c6-9e7a-71b564106241",
   "metadata": {},
   "outputs": [],
   "source": [
    "# mapping = [\n",
    "#     (\"temp vor Rückstandskühler\", \"TI-T0022\"),\n",
    "#     (\"temp nach Rückstandskühler\", \"TI-T0026\"),\n",
    "#     (\"stand nach Rückstandskühler\", \"LI-L0009\"),\n",
    "#     (\"temp nach Destillatkühler a\", \"TI-T0027\"),\n",
    "#     (\"temp nach Destillatkühler b\", \"TI-T0028\"),\n",
    "#     (\"stand nach Destillatkühler a\", \"LI-L0010\"),\n",
    "#     (\"stand nach Destillatkühler b\", \"LI-L0008\"),\n",
    "#     (\"druck nach Destillatkühler a\", \"PI-P0020\"),\n",
    "#     (\"druck nach Destillatkühler b\", \"PI-P0019\"),\n",
    "#     (\"menge an zufluss in tanklager\", \"FQI-F0024\"),\n",
    "#     (\"dampfdruck in der destillation\", \"PDI-P0018\"),\n",
    "#     (\"obere Temperatur in der destillation\", \"TRC-T0029\"),\n",
    "#     (\"mittlere Temperatur in der destillation\", \"TRC-T0031\"),\n",
    "#     (\"untere Temperatur in der destillation\", \"TRC-T0032\"),\n",
    "#     (\"menge in der destillation\", \"LRC-L0011\"),\n",
    "#     (\"zuflussmenge zur destillation\", \"FRC-F0025\"),\n",
    "#     (\"zuflusstemperatur zur destillation\", \"TI-T0030\"),\n",
    "#     (\"temp Kühlwasser-Rücklauf von der Destillation\", \"TI-T0023\"),\n",
    "#     (\"menge Kühlwasser-Rücklauf von der Destillation\", \"FI-F0023\"),\n",
    "#     (\"temp Kühlwasser-Rücklauf von Kondensator\", \"TI-T0023\"),\n",
    "#     (\"menge Kühlwasser-Rücklauf von Kondensator\", \"FI-F0023\"),\n",
    "#     (\"temp Kühlgas-Rücklauf von der Destillation\", \"TI-T0025\"),\n",
    "#     (\"temp Kühlgas-Rücklauf von Gaskühler\", \"TI-T0025\"),\n",
    "# ]"
   ]
  },
  {
   "cell_type": "code",
   "execution_count": null,
   "id": "5a004214-be78-4bd7-b822-c4564173d555",
   "metadata": {},
   "outputs": [],
   "source": [
    "# raw = []\n",
    "# for desc, tag in mapping:\n",
    "#     response = httpx.get(f\"http://localhost:5050/v1/id_from_name/{tag}\")\n",
    "#     _id = response.json()\n",
    "#     raw.append({\"description\": desc, \"name\": tag, \"tag\": tag, \"id\": _id})"
   ]
  },
  {
   "cell_type": "code",
   "execution_count": null,
   "id": "47f1c296-ffb7-4a08-8255-49073cc4bd4c",
   "metadata": {},
   "outputs": [],
   "source": [
    "# with open(\"/Users/steffen/sim_company/chemical/raw/knowledge_base.json\", \"w\") as f:\n",
    "#     json.dump(raw,f)"
   ]
  },
  {
   "cell_type": "code",
   "execution_count": null,
   "id": "2f2ca1aa-de5d-488c-b3cd-a12581dd30cc",
   "metadata": {},
   "outputs": [],
   "source": [
    "test = httpx.get(\"http://localhost:5051/v1/embedding/test\")"
   ]
  },
  {
   "cell_type": "code",
   "execution_count": null,
   "id": "0eff5592-9fc6-4396-abfd-25bc6d448f14",
   "metadata": {},
   "outputs": [],
   "source": [
    "n_emb = len(test.json()[\"embedding\"])"
   ]
  },
  {
   "cell_type": "markdown",
   "id": "43edf202-4209-4497-97be-134224c9572d",
   "metadata": {},
   "source": [
    "## Data ingestion"
   ]
  },
  {
   "cell_type": "code",
   "execution_count": null,
   "id": "5a0b3639-3a83-4520-ba7a-69713bf1eaf7",
   "metadata": {},
   "outputs": [],
   "source": [
    "with open(\"/Users/steffen/sim_company/chemical/raw/knowledge_base.json\", \"r\") as f:\n",
    "    data = json.load(f)"
   ]
  },
  {
   "cell_type": "code",
   "execution_count": null,
   "id": "96625359-3d49-4dad-9fd1-2b9079859c55",
   "metadata": {},
   "outputs": [],
   "source": [
    "from qdrant_client import QdrantClient, models\n",
    "\n",
    "client = QdrantClient(host=\"localhost\", port=6333)\n"
   ]
  },
  {
   "cell_type": "code",
   "execution_count": null,
   "id": "449d04ad-321a-46d1-8545-11e2131eb6fb",
   "metadata": {},
   "outputs": [],
   "source": [
    "from qdrant_client.models import VectorParams, Distance\n",
    "\n",
    "# client.delete_collection(collection_name=\"chemical\")\n",
    "\n",
    "\n",
    "if not client.collection_exists(\"chemical\"):\n",
    "   client.create_collection(\n",
    "      collection_name=\"chemical\",\n",
    "      vectors_config=VectorParams(size=n_emb, distance=Distance.COSINE),\n",
    "   )\n"
   ]
  },
  {
   "cell_type": "code",
   "execution_count": null,
   "id": "6eeae3a7-f054-4151-bb28-615d4c41d0cd",
   "metadata": {},
   "outputs": [],
   "source": [
    "# import numpy as np\n",
    "# from qdrant_client.models import PointStruct\n",
    "\n",
    "# for idx, _data in enumerate(data):\n",
    "\n",
    "#     response = httpx.get(f\"http://localhost:5051/v1/embedding/{_data[\"description\"]}\")\n",
    "#     embedding = response.json()[\"embedding\"]\n",
    "    \n",
    "#     client.upsert(\n",
    "#         collection_name=\"chemical\",\n",
    "#         points=[\n",
    "#             models.PointStruct(\n",
    "#                 id=_data[\"id\"],\n",
    "#                 payload=_data,\n",
    "#                 vector=embedding,\n",
    "#             ),\n",
    "#         ],\n",
    "#     )\n",
    "\n"
   ]
  },
  {
   "cell_type": "markdown",
   "id": "5c19c9aa-2d7f-442e-bacf-e02a35592458",
   "metadata": {},
   "source": [
    "## Data retrieval"
   ]
  },
  {
   "cell_type": "code",
   "execution_count": 2,
   "id": "77b1be27-ff8b-44bd-9228-26610a9830b8",
   "metadata": {},
   "outputs": [],
   "source": [
    "from pydantic import BaseModel"
   ]
  },
  {
   "cell_type": "code",
   "execution_count": 3,
   "id": "b2cfd721-637a-4c33-9a63-b6587f4c3ef1",
   "metadata": {},
   "outputs": [],
   "source": [
    "class KBResponse(BaseModel):\n",
    "    query: str\n",
    "    text: str\n",
    "    score: float\n",
    "    id: str\n",
    "    tag: str\n",
    "    name: str"
   ]
  },
  {
   "cell_type": "code",
   "execution_count": 4,
   "id": "b3ef7991-895b-4b57-a5fd-dd787b063ac5",
   "metadata": {},
   "outputs": [],
   "source": [
    "query_text = \"What is the temperature?\"\n",
    "\n",
    "response = httpx.get(f\"http://localhost:5051/v1/embedding/\", params={\"text\": query_text})\n",
    "embedding = response.json()[\"embedding\"]"
   ]
  },
  {
   "cell_type": "code",
   "execution_count": 5,
   "id": "69a5f233-6b04-4ac2-aece-db30a8fe6789",
   "metadata": {},
   "outputs": [],
   "source": [
    "\n",
    "response = httpx.post(f\"http://localhost:5051/v1/search/\", json={\"embedding\": embedding})\n",
    "response = response.json()"
   ]
  },
  {
   "cell_type": "code",
   "execution_count": 6,
   "id": "b288582c-b794-4613-92d6-e667d19ec2f6",
   "metadata": {},
   "outputs": [],
   "source": [
    "scores = []\n",
    "\n",
    "for p in response[\"results\"]:\n",
    "    r = httpx.get(f\"http://localhost:5051/v1/ranking/\", params={\"text\": p[\"description\"], \"query\": query_text})\n",
    "    score = r.json()\n",
    "    p.pop(\"score\", None)\n",
    "    data = KBResponse(**score, **p)\n",
    "    scores.append(data)\n"
   ]
  },
  {
   "cell_type": "code",
   "execution_count": 7,
   "id": "0a68bd2f-1458-41a7-87e7-32ea78a76862",
   "metadata": {},
   "outputs": [
    {
     "data": {
      "text/plain": [
       "[KBResponse(query='What is the temperature?', text='temperature in the upper part of the distillation column', score=-5.1993913650512695, id='54fc69f2-bc6c-4bbb-a22f-c07c975a0386', tag='TRC-T0029', name='TRC-T0029'),\n",
       " KBResponse(query='What is the temperature?', text='temperature in the lower part of the distillation column', score=-5.628674507141113, id='59c3f5c6-6fe1-48ed-85c8-b7e99b5a3e02', tag='TRC-T0032', name='TRC-T0032'),\n",
       " KBResponse(query='What is the temperature?', text='temperature in the middle part of the distillation column', score=-5.320639133453369, id='22a9f4d8-b297-4d17-9ab0-8461e0683018', tag='TRC-T0031', name='TRC-T0031'),\n",
       " KBResponse(query='What is the temperature?', text='measures the cooling water temperature before the residue cooler', score=-8.388864517211914, id='cec684e7-cf21-47fe-8213-031cd576163c', tag='TI-T0022', name='TI-T0022'),\n",
       " KBResponse(query='What is the temperature?', text='temperature of the cooling water flow away from the condenser', score=-6.802274227142334, id='9280dee1-5dbf-45b7-9e29-c805c4555ba6', tag='TI-T0023', name='TI-T0023'),\n",
       " KBResponse(query='What is the temperature?', text='measures the cooling water tank temperature after the residue cooler', score=-8.791091918945312, id='d656698b-95a8-4e6b-a220-ead9ce1ed7bd', tag='TI-T0026', name='TI-T0026'),\n",
       " KBResponse(query='What is the temperature?', text='destillate temperature before the tank storage at tank a', score=-7.775909423828125, id='e419deb7-e5fd-47b0-bd93-d76f99205914', tag='TI-T0027', name='TI-T0027'),\n",
       " KBResponse(query='What is the temperature?', text='temperature of the distillate flow towards the distillation column', score=-6.199988842010498, id='91aa9c4d-9c9d-4a18-9de2-9fc6215c4edb', tag='TI-T0030', name='TI-T0030'),\n",
       " KBResponse(query='What is the temperature?', text='temperature of the cooling gas flow away from the cooling gas cooler', score=-6.872870445251465, id='d3425a92-ebfe-404e-8311-b1c1ca96089f', tag='TI-T0025', name='TI-T0025'),\n",
       " KBResponse(query='What is the temperature?', text='destillate temperature before the tank storage at tank b', score=-8.364774703979492, id='6de9bd70-9baf-42bb-a532-3f6387388ff8', tag='TI-T0028', name='TI-T0028'),\n",
       " KBResponse(query='What is the temperature?', text='water level of the cooling water tank after the residue cooler', score=-10.351877212524414, id='91c0992d-8db1-4803-82a9-b2319d459f16', tag='LI-L0009', name='LI-L0009'),\n",
       " KBResponse(query='What is the temperature?', text='amount of cooling water flow away from the condenser', score=-10.884103775024414, id='3b5efb30-e262-4322-b8ba-1af30ed6e58e', tag='FI-F0023', name='FI-F0023'),\n",
       " KBResponse(query='What is the temperature?', text='vapor pressure in the distillations column', score=-10.852439880371094, id='0919b818-270d-448a-9416-e02b592880d7', tag='PDI-P0018', name='PDI-P0018'),\n",
       " KBResponse(query='What is the temperature?', text='total production rate of the distillation', score=-11.081687927246094, id='0c2b4d6c-32b0-45ad-89a9-0e8e07a1eb64', tag='FQI-F0024', name='FQI-F0024'),\n",
       " KBResponse(query='What is the temperature?', text='level of distillate in the distillation column', score=-11.049649238586426, id='b9ce4979-4dd3-480d-af90-4920858464b2', tag='LRC-L0011', name='LRC-L0011'),\n",
       " KBResponse(query='What is the temperature?', text='amount of distillate flow towards the distillation column', score=-11.147808074951172, id='6776eb4b-cde4-4e31-9994-899af0a01249', tag='FRC-F0025', name='FRC-F0025'),\n",
       " KBResponse(query='What is the temperature?', text='destillate pressure before the tank storage at tank a', score=-11.108329772949219, id='590c2ed0-d08e-468a-8eb0-7f5a393acd66', tag='PI-P0020', name='PI-P0020'),\n",
       " KBResponse(query='What is the temperature?', text='destillate level before the tank storage at tank a', score=-11.148008346557617, id='29511296-41d0-48ea-8aeb-3007e5d73524', tag='LI-L0010', name='LI-L0010'),\n",
       " KBResponse(query='What is the temperature?', text='destillate pressure before the tank storage at tank b', score=-11.16245174407959, id='088a0468-3d6e-438a-8c4d-eed0c615822a', tag='PI-P0019', name='PI-P0019'),\n",
       " KBResponse(query='What is the temperature?', text='destillate level before the tank storage at tank b', score=-11.195804595947266, id='6c13417e-7eff-4530-94a7-0a93f88647fb', tag='LI-L0008', name='LI-L0008')]"
      ]
     },
     "execution_count": 7,
     "metadata": {},
     "output_type": "execute_result"
    }
   ],
   "source": [
    "scores"
   ]
  },
  {
   "cell_type": "code",
   "execution_count": null,
   "id": "56b07d38-4046-4ba1-bcd4-770512d98bc4",
   "metadata": {},
   "outputs": [],
   "source": []
  }
 ],
 "metadata": {
  "kernelspec": {
   "display_name": "Python 3 (ipykernel)",
   "language": "python",
   "name": "python3"
  },
  "language_info": {
   "codemirror_mode": {
    "name": "ipython",
    "version": 3
   },
   "file_extension": ".py",
   "mimetype": "text/x-python",
   "name": "python",
   "nbconvert_exporter": "python",
   "pygments_lexer": "ipython3",
   "version": "3.12.7"
  }
 },
 "nbformat": 4,
 "nbformat_minor": 5
}
